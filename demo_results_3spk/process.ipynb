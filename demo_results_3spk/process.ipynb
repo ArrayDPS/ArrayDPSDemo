{
 "cells": [
  {
   "cell_type": "code",
   "execution_count": null,
   "metadata": {},
   "outputs": [],
   "source": [
    "import fast_bss_eval\n",
    "import soundfile as sf\n",
    "import librosa\n",
    "import os\n",
    "import numpy as np"
   ]
  },
  {
   "cell_type": "code",
   "execution_count": 66,
   "metadata": {},
   "outputs": [
    {
     "name": "stdout",
     "output_type": "stream",
     "text": [
      "alpha: [[1.1267785]\n",
      " [1.0792881]\n",
      " [1.1069846]]\n",
      "alpha: [[1.2124469]\n",
      " [0.9683827]\n",
      " [1.1146048]]\n",
      "alpha: [[1.095682 ]\n",
      " [1.0797856]\n",
      " [1.0921682]]\n",
      "alpha: [[1.0743719]\n",
      " [1.037909 ]\n",
      " [1.0706071]]\n",
      "alpha: [[1.1807181 ]\n",
      " [0.88987315]\n",
      " [1.0871633 ]]\n",
      "alpha: [[1.1151189]\n",
      " [1.1216354]\n",
      " [1.0967883]]\n",
      "alpha: [[1.1232277]\n",
      " [1.1510909]\n",
      " [1.0683532]]\n",
      "alpha: [[1.0872976]\n",
      " [1.0860806]\n",
      " [1.0390786]]\n",
      "alpha: [[1.235724 ]\n",
      " [1.0155928]\n",
      " [1.121483 ]]\n",
      "alpha: [[1.2498922]\n",
      " [1.0773333]\n",
      " [0.8330783]]\n"
     ]
    }
   ],
   "source": [
    "for i in range(10):\n",
    "    clean_folder = r'C:\\Users\\xzwy1\\Desktop\\arraydps_demo\\demo_results_3spk\\clean\\spatialwsj\\sample_{}'.format(i)\n",
    "    separated_folder = r'C:\\Users\\xzwy1\\Desktop\\arraydps_demo\\demo_results_3spk\\spatialcluster\\sample_{}'.format(i)\n",
    "    clean1, fs = librosa.load(os.path.join(clean_folder, 's1.wav'), sr=8000)\n",
    "    clean2, fs = librosa.load(os.path.join(clean_folder, 's2.wav'), sr=8000)\n",
    "    clean3, fs = librosa.load(os.path.join(clean_folder, 's3.wav'), sr=8000)\n",
    "    sep1, fs = librosa.load(os.path.join(separated_folder, 's1.wav'), sr=8000)\n",
    "    sep2, fs = librosa.load(os.path.join(separated_folder, 's2.wav'), sr=8000)\n",
    "    sep3, fs = librosa.load(os.path.join(separated_folder, 's3.wav'), sr=8000)\n",
    "    clean = np.stack([clean1, clean2, clean3])\n",
    "    sep = np.stack([sep1, sep2, sep3])\n",
    "    length = min(clean.shape[-1], sep.shape[-1])\n",
    "    clean = clean[..., :length]\n",
    "    sep = sep[..., :length]\n",
    "    _, _, _, perm = fast_bss_eval.bss_eval_sources(clean, sep)\n",
    "    sep_final = sep[perm]\n",
    "    alpha = (sep_final * clean).sum(-1) / (sep_final * sep_final).sum(-1)\n",
    "    alpha = alpha[:, None]\n",
    "    print('alpha:', alpha)\n",
    "    sep_final_final = alpha * sep_final\n",
    "    sf.write(os.path.join(separated_folder, 's1.wav'), sep_final_final[0], 8000)\n",
    "    sf.write(os.path.join(separated_folder, 's2.wav'), sep_final_final[1], 8000)\n",
    "    sf.write(os.path.join(separated_folder, 's3.wav'), sep_final_final[2], 8000)"
   ]
  },
  {
   "cell_type": "code",
   "execution_count": null,
   "metadata": {},
   "outputs": [],
   "source": [
    "r'C:\\Users\\xzwy1\\Desktop\\arraydps_demo\\demo_results_3spk\\arraydps\\trial_{}\\sample_{}'.format(trial, i)"
   ]
  },
  {
   "cell_type": "code",
   "execution_count": 70,
   "metadata": {},
   "outputs": [
    {
     "name": "stdout",
     "output_type": "stream",
     "text": [
      "alpha: [[0.9973429]\n",
      " [0.9939759]\n",
      " [0.9981262]]\n",
      "alpha: [[0.99647135]\n",
      " [0.9946592 ]\n",
      " [0.9987736 ]]\n",
      "alpha: [[0.9978396]\n",
      " [0.9888174]\n",
      " [0.997208 ]]\n",
      "alpha: [[0.99218  ]\n",
      " [0.9876577]\n",
      " [0.9973793]]\n",
      "alpha: [[0.9543984 ]\n",
      " [0.9997523 ]\n",
      " [0.98527443]]\n",
      "alpha: [[1.0104188]\n",
      " [0.9743056]\n",
      " [0.9874057]]\n",
      "alpha: [[1.0091183 ]\n",
      " [0.9673562 ]\n",
      " [0.98374254]]\n",
      "alpha: [[1.0039226 ]\n",
      " [0.955431  ]\n",
      " [0.97587466]]\n",
      "alpha: [[1.0132096]\n",
      " [0.9381943]\n",
      " [0.9710603]]\n",
      "alpha: [[0.99395615]\n",
      " [0.9616093 ]\n",
      " [0.9572215 ]]\n",
      "alpha: [[1.0029814]\n",
      " [0.9632864]\n",
      " [1.005879 ]]\n",
      "alpha: [[1.0004034]\n",
      " [0.9715457]\n",
      " [0.9933585]]\n",
      "alpha: [[1.0002087]\n",
      " [0.9619125]\n",
      " [0.9851835]]\n",
      "alpha: [[0.99592495]\n",
      " [0.9121352 ]\n",
      " [0.99764955]]\n",
      "alpha: [[0.98374295]\n",
      " [0.87185353]\n",
      " [0.99563426]]\n",
      "alpha: [[0.99158674]\n",
      " [0.9918805 ]\n",
      " [0.9950715 ]]\n",
      "alpha: [[0.9891125 ]\n",
      " [0.99345934]\n",
      " [0.9831897 ]]\n",
      "alpha: [[0.98656285]\n",
      " [0.9783336 ]\n",
      " [0.98071635]]\n",
      "alpha: [[0.98370975]\n",
      " [0.98429954]\n",
      " [0.9801698 ]]\n",
      "alpha: [[0.98293674]\n",
      " [0.99263304]\n",
      " [0.98243976]]\n",
      "alpha: [[0.9965278 ]\n",
      " [0.99347883]\n",
      " [0.9942792 ]]\n",
      "alpha: [[0.99671215]\n",
      " [0.99289817]\n",
      " [0.99598426]]\n",
      "alpha: [[0.9995248]\n",
      " [0.9884162]\n",
      " [0.9969285]]\n",
      "alpha: [[0.9983257 ]\n",
      " [0.9799767 ]\n",
      " [0.99790764]]\n",
      "alpha: [[0.9966011 ]\n",
      " [0.9713236 ]\n",
      " [0.99705803]]\n"
     ]
    }
   ],
   "source": [
    "for i in range(5):\n",
    "    clean_folder = r'C:\\Users\\xzwy1\\Desktop\\arraydps_demo\\demo_results_3spk\\clean\\spatialwsj\\sample_{}'.format(i)\n",
    "    clean1, fs = librosa.load(os.path.join(clean_folder, 's1.wav'), sr=8000)\n",
    "    clean2, fs = librosa.load(os.path.join(clean_folder, 's2.wav'), sr=8000)\n",
    "    clean3, fs = librosa.load(os.path.join(clean_folder, 's3.wav'), sr=8000)\n",
    "    for trial in range(5):\n",
    "        separated_folder = r'C:\\Users\\xzwy1\\Desktop\\arraydps_demo\\demo_results_3spk\\arraydps_new\\sample_{}\\trial_{}'.format(i, trial)\n",
    "        sep1, fs = librosa.load(os.path.join(separated_folder, 's1.wav'), sr=8000)\n",
    "        sep2, fs = librosa.load(os.path.join(separated_folder, 's2.wav'), sr=8000)\n",
    "        sep3, fs = librosa.load(os.path.join(separated_folder, 's3.wav'), sr=8000)\n",
    "        clean = np.stack([clean1, clean2, clean3])\n",
    "        sep = np.stack([sep1, sep2, sep3])\n",
    "        length = min(clean.shape[-1], sep.shape[-1])\n",
    "        clean = clean[..., :length]\n",
    "        sep = sep[..., :length]\n",
    "        _, _, _, perm = fast_bss_eval.bss_eval_sources(clean, sep)\n",
    "        sep_final = sep[perm]\n",
    "        alpha = (sep_final * clean).sum(-1) / (sep_final * sep_final).sum(-1)\n",
    "        alpha = alpha[:, None]\n",
    "        print('alpha:', alpha)\n",
    "        sep_final_final = alpha * sep_final\n",
    "        sf.write(os.path.join(separated_folder, 's1.wav'), sep_final_final[0], 8000)\n",
    "        sf.write(os.path.join(separated_folder, 's2.wav'), sep_final_final[1], 8000)\n",
    "        sf.write(os.path.join(separated_folder, 's3.wav'), sep_final_final[2], 8000)"
   ]
  },
  {
   "cell_type": "code",
   "execution_count": 62,
   "metadata": {},
   "outputs": [
    {
     "data": {
      "text/plain": [
       "'C:\\\\Users\\\\xzwy1\\\\Desktop\\\\arraydps_demo\\\\demo_results_3spk\\\\clean\\\\spatialwsj\\\\sample_{i}'"
      ]
     },
     "execution_count": 62,
     "metadata": {},
     "output_type": "execute_result"
    }
   ],
   "source": [
    "clean_folder"
   ]
  },
  {
   "cell_type": "code",
   "execution_count": 48,
   "metadata": {},
   "outputs": [],
   "source": [
    "clean_folder = r'C:\\Users\\xzwy1\\Desktop\\arraydps_demo\\demo_results_3spk\\clean\\spatialwsj\\sample_3'\n",
    "separated_folder = r'C:\\Users\\xzwy1\\Desktop\\arraydps_demo\\demo_results_3spk\\supervised\\sample_3'\n"
   ]
  },
  {
   "cell_type": "code",
   "execution_count": 49,
   "metadata": {},
   "outputs": [],
   "source": [
    "import soundfile as sf\n",
    "import librosa\n",
    "import os\n",
    "import numpy as np"
   ]
  },
  {
   "cell_type": "code",
   "execution_count": 50,
   "metadata": {},
   "outputs": [],
   "source": [
    "clean1, fs = librosa.load(os.path.join(clean_folder, 's1.wav'), sr=8000)\n",
    "clean2, fs = librosa.load(os.path.join(clean_folder, 's2.wav'), sr=8000)\n",
    "clean3, fs = librosa.load(os.path.join(clean_folder, 's3.wav'), sr=8000)\n",
    "sep1, fs = librosa.load(os.path.join(separated_folder, 's1.wav'), sr=8000)\n",
    "sep2, fs = librosa.load(os.path.join(separated_folder, 's2.wav'), sr=8000)\n",
    "sep3, fs = librosa.load(os.path.join(separated_folder, 's3.wav'), sr=8000)"
   ]
  },
  {
   "cell_type": "code",
   "execution_count": 51,
   "metadata": {},
   "outputs": [],
   "source": [
    "clean = np.stack([clean1, clean2, clean3])\n",
    "sep = np.stack([sep1, sep2, sep3])"
   ]
  },
  {
   "cell_type": "code",
   "execution_count": 52,
   "metadata": {},
   "outputs": [],
   "source": [
    "length = min(clean.shape[-1], sep.shape[-1])"
   ]
  },
  {
   "cell_type": "code",
   "execution_count": 53,
   "metadata": {},
   "outputs": [],
   "source": [
    "clean = clean[..., :length]\n",
    "sep = sep[..., :length]"
   ]
  },
  {
   "cell_type": "code",
   "execution_count": 54,
   "metadata": {},
   "outputs": [],
   "source": [
    "_, _, _, perm = fast_bss_eval.bss_eval_sources(clean, sep)"
   ]
  },
  {
   "cell_type": "code",
   "execution_count": 55,
   "metadata": {},
   "outputs": [],
   "source": [
    "sep_final = sep[perm]"
   ]
  },
  {
   "cell_type": "code",
   "execution_count": 56,
   "metadata": {},
   "outputs": [],
   "source": [
    "alpha = (sep_final * clean).sum(-1) / (sep_final * sep_final).sum(-1)"
   ]
  },
  {
   "cell_type": "code",
   "execution_count": 57,
   "metadata": {},
   "outputs": [],
   "source": [
    "alpha = alpha[:, None]"
   ]
  },
  {
   "cell_type": "code",
   "execution_count": 58,
   "metadata": {},
   "outputs": [
    {
     "data": {
      "text/plain": [
       "array([[-0.49194363],\n",
       "       [ 0.43880486],\n",
       "       [-0.7031909 ]], dtype=float32)"
      ]
     },
     "execution_count": 58,
     "metadata": {},
     "output_type": "execute_result"
    }
   ],
   "source": [
    "alpha"
   ]
  },
  {
   "cell_type": "code",
   "execution_count": 59,
   "metadata": {},
   "outputs": [],
   "source": [
    "sep_final_final = alpha * sep_final"
   ]
  },
  {
   "cell_type": "code",
   "execution_count": 60,
   "metadata": {},
   "outputs": [],
   "source": [
    "sf.write(os.path.join(separated_folder, 's1.wav'), sep_final_final[0], 8000)\n",
    "sf.write(os.path.join(separated_folder, 's2.wav'), sep_final_final[1], 8000)\n",
    "sf.write(os.path.join(separated_folder, 's3.wav'), sep_final_final[2], 8000)"
   ]
  },
  {
   "cell_type": "code",
   "execution_count": null,
   "metadata": {},
   "outputs": [],
   "source": []
  },
  {
   "cell_type": "code",
   "execution_count": null,
   "metadata": {},
   "outputs": [],
   "source": []
  },
  {
   "cell_type": "code",
   "execution_count": null,
   "metadata": {},
   "outputs": [],
   "source": []
  },
  {
   "cell_type": "code",
   "execution_count": null,
   "metadata": {},
   "outputs": [],
   "source": [
    "[2,6,7,9]"
   ]
  },
  {
   "cell_type": "code",
   "execution_count": null,
   "metadata": {},
   "outputs": [],
   "source": []
  },
  {
   "cell_type": "code",
   "execution_count": null,
   "metadata": {},
   "outputs": [],
   "source": []
  },
  {
   "cell_type": "code",
   "execution_count": null,
   "metadata": {},
   "outputs": [],
   "source": []
  },
  {
   "cell_type": "code",
   "execution_count": null,
   "metadata": {},
   "outputs": [],
   "source": []
  },
  {
   "cell_type": "code",
   "execution_count": null,
   "metadata": {},
   "outputs": [],
   "source": []
  },
  {
   "cell_type": "code",
   "execution_count": null,
   "metadata": {},
   "outputs": [],
   "source": []
  },
  {
   "cell_type": "code",
   "execution_count": null,
   "metadata": {},
   "outputs": [],
   "source": []
  },
  {
   "cell_type": "code",
   "execution_count": null,
   "metadata": {},
   "outputs": [],
   "source": []
  },
  {
   "cell_type": "code",
   "execution_count": null,
   "metadata": {},
   "outputs": [],
   "source": []
  },
  {
   "cell_type": "code",
   "execution_count": null,
   "metadata": {},
   "outputs": [],
   "source": []
  },
  {
   "cell_type": "code",
   "execution_count": null,
   "metadata": {},
   "outputs": [],
   "source": []
  },
  {
   "cell_type": "code",
   "execution_count": null,
   "metadata": {},
   "outputs": [],
   "source": []
  },
  {
   "cell_type": "code",
   "execution_count": null,
   "metadata": {},
   "outputs": [],
   "source": []
  }
 ],
 "metadata": {
  "kernelspec": {
   "display_name": "base",
   "language": "python",
   "name": "python3"
  },
  "language_info": {
   "codemirror_mode": {
    "name": "ipython",
    "version": 3
   },
   "file_extension": ".py",
   "mimetype": "text/x-python",
   "name": "python",
   "nbconvert_exporter": "python",
   "pygments_lexer": "ipython3",
   "version": "3.10.9"
  }
 },
 "nbformat": 4,
 "nbformat_minor": 2
}

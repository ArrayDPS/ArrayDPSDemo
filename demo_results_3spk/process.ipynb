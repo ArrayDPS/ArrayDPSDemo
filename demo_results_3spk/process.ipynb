{
 "cells": [
  {
   "cell_type": "code",
   "execution_count": null,
   "metadata": {},
   "outputs": [],
   "source": [
    "import fast_bss_eval\n",
    "import soundfile as sf\n",
    "import librosa\n",
    "import os\n",
    "import numpy as np"
   ]
  },
  {
   "cell_type": "code",
   "execution_count": 66,
   "metadata": {},
   "outputs": [
    {
     "name": "stdout",
     "output_type": "stream",
     "text": [
      "alpha: [[1.1267785]\n",
      " [1.0792881]\n",
      " [1.1069846]]\n",
      "alpha: [[1.2124469]\n",
      " [0.9683827]\n",
      " [1.1146048]]\n",
      "alpha: [[1.095682 ]\n",
      " [1.0797856]\n",
      " [1.0921682]]\n",
      "alpha: [[1.0743719]\n",
      " [1.037909 ]\n",
      " [1.0706071]]\n",
      "alpha: [[1.1807181 ]\n",
      " [0.88987315]\n",
      " [1.0871633 ]]\n",
      "alpha: [[1.1151189]\n",
      " [1.1216354]\n",
      " [1.0967883]]\n",
      "alpha: [[1.1232277]\n",
      " [1.1510909]\n",
      " [1.0683532]]\n",
      "alpha: [[1.0872976]\n",
      " [1.0860806]\n",
      " [1.0390786]]\n",
      "alpha: [[1.235724 ]\n",
      " [1.0155928]\n",
      " [1.121483 ]]\n",
      "alpha: [[1.2498922]\n",
      " [1.0773333]\n",
      " [0.8330783]]\n"
     ]
    }
   ],
   "source": [
    "for i in range(10):\n",
    "    clean_folder = r'C:\\Users\\xzwy1\\Desktop\\arraydps_demo\\demo_results_3spk\\clean\\spatialwsj\\sample_{}'.format(i)\n",
    "    separated_folder = r'C:\\Users\\xzwy1\\Desktop\\arraydps_demo\\demo_results_3spk\\spatialcluster\\sample_{}'.format(i)\n",
    "    clean1, fs = librosa.load(os.path.join(clean_folder, 's1.wav'), sr=8000)\n",
    "    clean2, fs = librosa.load(os.path.join(clean_folder, 's2.wav'), sr=8000)\n",
    "    clean3, fs = librosa.load(os.path.join(clean_folder, 's3.wav'), sr=8000)\n",
    "    sep1, fs = librosa.load(os.path.join(separated_folder, 's1.wav'), sr=8000)\n",
    "    sep2, fs = librosa.load(os.path.join(separated_folder, 's2.wav'), sr=8000)\n",
    "    sep3, fs = librosa.load(os.path.join(separated_folder, 's3.wav'), sr=8000)\n",
    "    clean = np.stack([clean1, clean2, clean3])\n",
    "    sep = np.stack([sep1, sep2, sep3])\n",
    "    length = min(clean.shape[-1], sep.shape[-1])\n",
    "    clean = clean[..., :length]\n",
    "    sep = sep[..., :length]\n",
    "    _, _, _, perm = fast_bss_eval.bss_eval_sources(clean, sep)\n",
    "    sep_final = sep[perm]\n",
    "    alpha = (sep_final * clean).sum(-1) / (sep_final * sep_final).sum(-1)\n",
    "    alpha = alpha[:, None]\n",
    "    print('alpha:', alpha)\n",
    "    sep_final_final = alpha * sep_final\n",
    "    sf.write(os.path.join(separated_folder, 's1.wav'), sep_final_final[0], 8000)\n",
    "    sf.write(os.path.join(separated_folder, 's2.wav'), sep_final_final[1], 8000)\n",
    "    sf.write(os.path.join(separated_folder, 's3.wav'), sep_final_final[2], 8000)"
   ]
  },
  {
   "cell_type": "code",
   "execution_count": null,
   "metadata": {},
   "outputs": [],
   "source": [
    "r'C:\\Users\\xzwy1\\Desktop\\arraydps_demo\\demo_results_3spk\\arraydps\\trial_{}\\sample_{}'.format(trial, i)"
   ]
  },
  {
   "cell_type": "code",
   "execution_count": 69,
   "metadata": {},
   "outputs": [
    {
     "name": "stdout",
     "output_type": "stream",
     "text": [
      "alpha: [[1.0184278 ]\n",
      " [0.99054796]\n",
      " [0.99194294]]\n",
      "alpha: [[1.0294354]\n",
      " [1.0075842]\n",
      " [0.9494063]]\n",
      "alpha: [[1.0295235]\n",
      " [0.9985436]\n",
      " [1.0039458]]\n",
      "alpha: [[1.0345713 ]\n",
      " [0.99770826]\n",
      " [0.99709326]]\n",
      "alpha: [[1.0309867]\n",
      " [1.0011126]\n",
      " [0.9746527]]\n",
      "alpha: [[0.95511705]\n",
      " [0.21169849]\n",
      " [0.83112794]]\n",
      "alpha: [[0.76128983]\n",
      " [0.2581472 ]\n",
      " [0.813316  ]]\n",
      "alpha: [[0.93783206]\n",
      " [0.26852402]\n",
      " [0.68772525]]\n",
      "alpha: [[0.6930221]\n",
      " [0.2519553]\n",
      " [0.5189759]]\n",
      "alpha: [[0.995754  ]\n",
      " [0.12521055]\n",
      " [1.0422542 ]]\n",
      "alpha: [[1.0834156]\n",
      " [1.0333166]\n",
      " [1.0430633]]\n",
      "alpha: [[1.0785369]\n",
      " [1.0348251]\n",
      " [1.0443718]]\n",
      "alpha: [[1.081414 ]\n",
      " [1.0388927]\n",
      " [1.0480762]]\n",
      "alpha: [[1.0824876]\n",
      " [1.0336661]\n",
      " [1.0404509]]\n",
      "alpha: [[1.0782647]\n",
      " [1.0328041]\n",
      " [1.0448512]]\n",
      "alpha: [[1.059995 ]\n",
      " [0.9511121]\n",
      " [1.0300303]]\n",
      "alpha: [[1.0507916]\n",
      " [0.9595029]\n",
      " [1.0138365]]\n",
      "alpha: [[1.0684999]\n",
      " [0.9610202]\n",
      " [1.0082827]]\n",
      "alpha: [[1.0548048]\n",
      " [0.9523234]\n",
      " [1.0418546]]\n",
      "alpha: [[1.0449806]\n",
      " [0.9884641]\n",
      " [1.0253954]]\n",
      "alpha: [[1.0251782 ]\n",
      " [0.92567265]\n",
      " [1.0159466 ]]\n",
      "alpha: [[1.0259697 ]\n",
      " [0.91237617]\n",
      " [0.99010277]]\n",
      "alpha: [[1.0230883]\n",
      " [0.9263399]\n",
      " [1.0126107]]\n",
      "alpha: [[1.0314447 ]\n",
      " [0.94109744]\n",
      " [1.0222728 ]]\n",
      "alpha: [[1.0223621 ]\n",
      " [0.89524573]\n",
      " [1.0183573 ]]\n",
      "alpha: [[0.94852656]\n",
      " [1.0175372 ]\n",
      " [1.1121887 ]]\n",
      "alpha: [[0.9098411]\n",
      " [1.0393534]\n",
      " [1.1042777]]\n",
      "alpha: [[0.9162861]\n",
      " [1.030385 ]\n",
      " [1.0938869]]\n",
      "alpha: [[0.9864797 ]\n",
      " [0.99782735]\n",
      " [1.0609779 ]]\n",
      "alpha: [[1.012564 ]\n",
      " [1.059187 ]\n",
      " [1.0313492]]\n",
      "alpha: [[0.9964411 ]\n",
      " [0.99974537]\n",
      " [0.98785216]]\n",
      "alpha: [[1.0054849]\n",
      " [0.9984648]\n",
      " [0.9923188]]\n",
      "alpha: [[1.0038313]\n",
      " [0.999102 ]\n",
      " [0.9866041]]\n",
      "alpha: [[1.0085379 ]\n",
      " [0.9929429 ]\n",
      " [0.98997235]]\n",
      "alpha: [[1.0054349 ]\n",
      " [0.99944085]\n",
      " [0.9810343 ]]\n",
      "alpha: [[1.03713  ]\n",
      " [1.0532067]\n",
      " [1.028611 ]]\n",
      "alpha: [[1.0320582]\n",
      " [1.0381639]\n",
      " [1.0355008]]\n",
      "alpha: [[1.0356756]\n",
      " [1.0542042]\n",
      " [1.0294795]]\n",
      "alpha: [[1.0347154]\n",
      " [1.0536189]\n",
      " [1.0300444]]\n",
      "alpha: [[1.0367309]\n",
      " [1.0540736]\n",
      " [1.0307504]]\n",
      "alpha: [[0.8943293 ]\n",
      " [0.77202636]\n",
      " [0.70535153]]\n",
      "alpha: [[0.84037894]\n",
      " [0.86714184]\n",
      " [0.66741866]]\n",
      "alpha: [[0.8699317]\n",
      " [0.839465 ]\n",
      " [0.6533793]]\n",
      "alpha: [[0.8905673 ]\n",
      " [0.85107726]\n",
      " [0.7028826 ]]\n",
      "alpha: [[0.84800035]\n",
      " [0.7671426 ]\n",
      " [0.6889016 ]]\n",
      "alpha: [[1.0328768]\n",
      " [1.0064721]\n",
      " [0.9714084]]\n",
      "alpha: [[1.0302161]\n",
      " [1.0092502]\n",
      " [0.9783141]]\n",
      "alpha: [[1.0237647 ]\n",
      " [0.9949427 ]\n",
      " [0.97190154]]\n",
      "alpha: [[1.0375998 ]\n",
      " [1.0003165 ]\n",
      " [0.97556025]]\n",
      "alpha: [[1.03133  ]\n",
      " [1.0000219]\n",
      " [0.9755625]]\n"
     ]
    }
   ],
   "source": [
    "for i in range(10):\n",
    "    clean_folder = r'C:\\Users\\xzwy1\\Desktop\\arraydps_demo\\demo_results_3spk\\clean\\spatialwsj\\sample_{}'.format(i)\n",
    "    clean1, fs = librosa.load(os.path.join(clean_folder, 's1.wav'), sr=8000)\n",
    "    clean2, fs = librosa.load(os.path.join(clean_folder, 's2.wav'), sr=8000)\n",
    "    clean3, fs = librosa.load(os.path.join(clean_folder, 's3.wav'), sr=8000)\n",
    "    for trial in range(5):\n",
    "        separated_folder = r'C:\\Users\\xzwy1\\Desktop\\arraydps_demo\\demo_results_3spk\\arraydps\\sample_{}\\trial_{}'.format(i, trial)\n",
    "        sep1, fs = librosa.load(os.path.join(separated_folder, 's1.wav'), sr=8000)\n",
    "        sep2, fs = librosa.load(os.path.join(separated_folder, 's2.wav'), sr=8000)\n",
    "        sep3, fs = librosa.load(os.path.join(separated_folder, 's3.wav'), sr=8000)\n",
    "        clean = np.stack([clean1, clean2, clean3])\n",
    "        sep = np.stack([sep1, sep2, sep3])\n",
    "        length = min(clean.shape[-1], sep.shape[-1])\n",
    "        clean = clean[..., :length]\n",
    "        sep = sep[..., :length]\n",
    "        _, _, _, perm = fast_bss_eval.bss_eval_sources(clean, sep)\n",
    "        sep_final = sep[perm]\n",
    "        alpha = (sep_final * clean).sum(-1) / (sep_final * sep_final).sum(-1)\n",
    "        alpha = alpha[:, None]\n",
    "        print('alpha:', alpha)\n",
    "        sep_final_final = alpha * sep_final\n",
    "        sf.write(os.path.join(separated_folder, 's1.wav'), sep_final_final[0], 8000)\n",
    "        sf.write(os.path.join(separated_folder, 's2.wav'), sep_final_final[1], 8000)\n",
    "        sf.write(os.path.join(separated_folder, 's3.wav'), sep_final_final[2], 8000)"
   ]
  },
  {
   "cell_type": "code",
   "execution_count": 62,
   "metadata": {},
   "outputs": [
    {
     "data": {
      "text/plain": [
       "'C:\\\\Users\\\\xzwy1\\\\Desktop\\\\arraydps_demo\\\\demo_results_3spk\\\\clean\\\\spatialwsj\\\\sample_{i}'"
      ]
     },
     "execution_count": 62,
     "metadata": {},
     "output_type": "execute_result"
    }
   ],
   "source": [
    "clean_folder"
   ]
  },
  {
   "cell_type": "code",
   "execution_count": 48,
   "metadata": {},
   "outputs": [],
   "source": [
    "clean_folder = r'C:\\Users\\xzwy1\\Desktop\\arraydps_demo\\demo_results_3spk\\clean\\spatialwsj\\sample_3'\n",
    "separated_folder = r'C:\\Users\\xzwy1\\Desktop\\arraydps_demo\\demo_results_3spk\\supervised\\sample_3'\n"
   ]
  },
  {
   "cell_type": "code",
   "execution_count": 49,
   "metadata": {},
   "outputs": [],
   "source": [
    "import soundfile as sf\n",
    "import librosa\n",
    "import os\n",
    "import numpy as np"
   ]
  },
  {
   "cell_type": "code",
   "execution_count": 50,
   "metadata": {},
   "outputs": [],
   "source": [
    "clean1, fs = librosa.load(os.path.join(clean_folder, 's1.wav'), sr=8000)\n",
    "clean2, fs = librosa.load(os.path.join(clean_folder, 's2.wav'), sr=8000)\n",
    "clean3, fs = librosa.load(os.path.join(clean_folder, 's3.wav'), sr=8000)\n",
    "sep1, fs = librosa.load(os.path.join(separated_folder, 's1.wav'), sr=8000)\n",
    "sep2, fs = librosa.load(os.path.join(separated_folder, 's2.wav'), sr=8000)\n",
    "sep3, fs = librosa.load(os.path.join(separated_folder, 's3.wav'), sr=8000)"
   ]
  },
  {
   "cell_type": "code",
   "execution_count": 51,
   "metadata": {},
   "outputs": [],
   "source": [
    "clean = np.stack([clean1, clean2, clean3])\n",
    "sep = np.stack([sep1, sep2, sep3])"
   ]
  },
  {
   "cell_type": "code",
   "execution_count": 52,
   "metadata": {},
   "outputs": [],
   "source": [
    "length = min(clean.shape[-1], sep.shape[-1])"
   ]
  },
  {
   "cell_type": "code",
   "execution_count": 53,
   "metadata": {},
   "outputs": [],
   "source": [
    "clean = clean[..., :length]\n",
    "sep = sep[..., :length]"
   ]
  },
  {
   "cell_type": "code",
   "execution_count": 54,
   "metadata": {},
   "outputs": [],
   "source": [
    "_, _, _, perm = fast_bss_eval.bss_eval_sources(clean, sep)"
   ]
  },
  {
   "cell_type": "code",
   "execution_count": 55,
   "metadata": {},
   "outputs": [],
   "source": [
    "sep_final = sep[perm]"
   ]
  },
  {
   "cell_type": "code",
   "execution_count": 56,
   "metadata": {},
   "outputs": [],
   "source": [
    "alpha = (sep_final * clean).sum(-1) / (sep_final * sep_final).sum(-1)"
   ]
  },
  {
   "cell_type": "code",
   "execution_count": 57,
   "metadata": {},
   "outputs": [],
   "source": [
    "alpha = alpha[:, None]"
   ]
  },
  {
   "cell_type": "code",
   "execution_count": 58,
   "metadata": {},
   "outputs": [
    {
     "data": {
      "text/plain": [
       "array([[-0.49194363],\n",
       "       [ 0.43880486],\n",
       "       [-0.7031909 ]], dtype=float32)"
      ]
     },
     "execution_count": 58,
     "metadata": {},
     "output_type": "execute_result"
    }
   ],
   "source": [
    "alpha"
   ]
  },
  {
   "cell_type": "code",
   "execution_count": 59,
   "metadata": {},
   "outputs": [],
   "source": [
    "sep_final_final = alpha * sep_final"
   ]
  },
  {
   "cell_type": "code",
   "execution_count": 60,
   "metadata": {},
   "outputs": [],
   "source": [
    "sf.write(os.path.join(separated_folder, 's1.wav'), sep_final_final[0], 8000)\n",
    "sf.write(os.path.join(separated_folder, 's2.wav'), sep_final_final[1], 8000)\n",
    "sf.write(os.path.join(separated_folder, 's3.wav'), sep_final_final[2], 8000)"
   ]
  },
  {
   "cell_type": "code",
   "execution_count": null,
   "metadata": {},
   "outputs": [],
   "source": []
  },
  {
   "cell_type": "code",
   "execution_count": null,
   "metadata": {},
   "outputs": [],
   "source": []
  },
  {
   "cell_type": "code",
   "execution_count": null,
   "metadata": {},
   "outputs": [],
   "source": []
  },
  {
   "cell_type": "code",
   "execution_count": null,
   "metadata": {},
   "outputs": [],
   "source": [
    "[2,6,7,9]"
   ]
  },
  {
   "cell_type": "code",
   "execution_count": null,
   "metadata": {},
   "outputs": [],
   "source": []
  },
  {
   "cell_type": "code",
   "execution_count": null,
   "metadata": {},
   "outputs": [],
   "source": []
  },
  {
   "cell_type": "code",
   "execution_count": null,
   "metadata": {},
   "outputs": [],
   "source": []
  },
  {
   "cell_type": "code",
   "execution_count": null,
   "metadata": {},
   "outputs": [],
   "source": []
  },
  {
   "cell_type": "code",
   "execution_count": null,
   "metadata": {},
   "outputs": [],
   "source": []
  },
  {
   "cell_type": "code",
   "execution_count": null,
   "metadata": {},
   "outputs": [],
   "source": []
  },
  {
   "cell_type": "code",
   "execution_count": null,
   "metadata": {},
   "outputs": [],
   "source": []
  },
  {
   "cell_type": "code",
   "execution_count": null,
   "metadata": {},
   "outputs": [],
   "source": []
  },
  {
   "cell_type": "code",
   "execution_count": null,
   "metadata": {},
   "outputs": [],
   "source": []
  },
  {
   "cell_type": "code",
   "execution_count": null,
   "metadata": {},
   "outputs": [],
   "source": []
  },
  {
   "cell_type": "code",
   "execution_count": null,
   "metadata": {},
   "outputs": [],
   "source": []
  },
  {
   "cell_type": "code",
   "execution_count": null,
   "metadata": {},
   "outputs": [],
   "source": []
  },
  {
   "cell_type": "code",
   "execution_count": null,
   "metadata": {},
   "outputs": [],
   "source": []
  }
 ],
 "metadata": {
  "kernelspec": {
   "display_name": "base",
   "language": "python",
   "name": "python3"
  },
  "language_info": {
   "codemirror_mode": {
    "name": "ipython",
    "version": 3
   },
   "file_extension": ".py",
   "mimetype": "text/x-python",
   "name": "python",
   "nbconvert_exporter": "python",
   "pygments_lexer": "ipython3",
   "version": "3.10.9"
  }
 },
 "nbformat": 4,
 "nbformat_minor": 2
}
